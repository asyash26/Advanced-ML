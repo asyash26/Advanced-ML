{
 "cells": [
  {
   "cell_type": "code",
   "execution_count": 1,
   "metadata": {},
   "outputs": [],
   "source": [
    "import pickle\n",
    "from scipy import sparse\n",
    "from sklearn.linear_model import Ridge, LogisticRegression\n",
    "import statistics\n",
    "from tqdm import tqdm\n",
    "import scipy.stats as sts"
   ]
  },
  {
   "cell_type": "code",
   "execution_count": 152,
   "metadata": {},
   "outputs": [],
   "source": [
    "from datetime import datetime\n",
    "from collections import defaultdict\n",
    "import matplotlib.pyplot as plt\n",
    "import numpy as np\n",
    "import pandas as pd\n",
    "import requests\n",
    "import itertools\n",
    "import math"
   ]
  },
  {
   "cell_type": "code",
   "execution_count": 25,
   "metadata": {},
   "outputs": [],
   "source": [
    "with open('results.pkl', 'rb') as file:\n",
    "    results = pickle.load(file)\n",
    "with open('players.pkl', 'rb') as file:\n",
    "    players = pickle.load(file)\n",
    "with open('tournaments.pkl', 'rb') as file:\n",
    "    tournaments = pickle.load(file)"
   ]
  },
  {
   "cell_type": "markdown",
   "metadata": {},
   "source": [
    "#### 1. Прочитайте и проанализируйте данные"
   ]
  },
  {
   "cell_type": "code",
   "execution_count": 4,
   "metadata": {},
   "outputs": [],
   "source": [
    "date_train_start = datetime.strptime('2019-01-01', '%Y-%m-%d')\n",
    "date_test_start = datetime.strptime('2020-01-01', '%Y-%m-%d')\n",
    "date_test_end = datetime.strptime('2020-12-31', '%Y-%m-%d')"
   ]
  },
  {
   "cell_type": "markdown",
   "metadata": {},
   "source": [
    "Для начала очистим данные и выделим множества для test и train."
   ]
  },
  {
   "cell_type": "code",
   "execution_count": 5,
   "metadata": {},
   "outputs": [],
   "source": [
    "test = []\n",
    "train = []\n",
    "\n",
    "for id_ in tournaments:\n",
    "    tornament_start_date = datetime.fromisoformat(tournaments[id_]['dateStart']).replace(tzinfo=None)\n",
    "    \n",
    "    # Дата турнира входит в нужны диапозон\n",
    "    if (tornament_start_date > date_train_start) and (tornament_start_date < date_test_end):\n",
    "        \n",
    "        # У турнира есть результаты\n",
    "        if results[id_] is not None:\n",
    "            \n",
    "            # Количество вопросов для каждой команды одинаковое\n",
    "            q_numbers = set([len(team['mask']) for team in list(filter(lambda x: x.get('mask') is not None, results[id_]))])\n",
    "            if (len(q_numbers) == 1):\n",
    "                \n",
    "                tournament = dict()\n",
    "                tournament['id'] = id_\n",
    "                tournament['teams'] = []\n",
    "                \n",
    "                for team in results[id_]:\n",
    "                    \n",
    "                    # Есть повопросный результат и нет пропусков\n",
    "                    if (team['mask'] is not None) and ('?' not in team['mask']) and ('X' not in team['mask']):\n",
    "                        \n",
    "                        team_dict = dict()\n",
    "                        team_dict['id'] = team['team']['id']\n",
    "                        team_dict['mask'] = team['mask']\n",
    "                        team_dict['members'] = [x['player']['id'] for x in team['teamMembers']]\n",
    "                        \n",
    "                        tournament['teams'].append(team_dict)\n",
    "                        \n",
    "                if tournament['teams']:      \n",
    "                    if tornament_start_date < date_test_start:\n",
    "                        train.append(tournament)\n",
    "                    else:\n",
    "                        test.append(tournament)      "
   ]
  },
  {
   "cell_type": "code",
   "execution_count": 6,
   "metadata": {},
   "outputs": [],
   "source": [
    "def show_statistics(data, title):\n",
    "    print(f'Среднее: {np.mean(data)}; Min: {np.min(data)}; Max: {np.max(data)}')\n",
    "    plt.hist(data, bins=70)\n",
    "    plt.title(title)\n",
    "    plt.show()"
   ]
  },
  {
   "cell_type": "markdown",
   "metadata": {},
   "source": [
    "Воспользуемся знанием из будущего и заранее выделим турниры, в которых 36 вопросов. Дальше будем работать с ними для удобства и экономии памяти."
   ]
  },
  {
   "cell_type": "code",
   "execution_count": 26,
   "metadata": {
    "scrolled": true
   },
   "outputs": [],
   "source": [
    "questions_count = []\n",
    "players_teams = defaultdict(set)\n",
    "players_answers = defaultdict(list)\n",
    "team_count = 0\n",
    "\n",
    "tournaments_36_q = []\n",
    "\n",
    "for tournament in train:\n",
    "    id_ = tournament['id']\n",
    "    q_count = len((tournament['teams'][0]['mask']))\n",
    "    questions_count.append(q_count)\n",
    "    if (q_count == 36):\n",
    "        tournaments_36_q.append(tournament)\n",
    "    \n",
    "    for team in tournament['teams']:\n",
    "        \n",
    "        team_count += 1\n",
    "        team_answers = list(map(int, list(filter(lambda x: x['team']['id'] == team['id'], results[id_]))[0]['mask']))\n",
    "        result = sum(team_answers) / len(team_answers)\n",
    "        \n",
    "        for player in team['members']:\n",
    "            \n",
    "            players_teams[player].add(tournament['id'])\n",
    "            players_answers[player].append(result)\n",
    "            \n",
    "players_teams_count = list(map(len, list(players_teams.values()))) \n",
    "right_answers_rate = list(map(np.mean, list(players_answers.values())))\n",
    "    "
   ]
  },
  {
   "cell_type": "code",
   "execution_count": 27,
   "metadata": {},
   "outputs": [
    {
     "name": "stdout",
     "output_type": "stream",
     "text": [
      "Среднее: 6.2203405196641945; Min: 1; Max: 184\n"
     ]
    },
    {
     "data": {
      "image/png": "[encoded data removed]",
      "text/plain": [
       "<Figure size 432x288 with 1 Axes>"
      ]
     },
     "metadata": {
      "needs_background": "light"
     },
     "output_type": "display_data"
    }
   ],
   "source": [
    "show_statistics(players_teams_count, 'Количество команд, в которых играет один участник')"
   ]
  },
  {
   "cell_type": "code",
   "execution_count": 28,
   "metadata": {},
   "outputs": [
    {
     "name": "stdout",
     "output_type": "stream",
     "text": [
      "Среднее: 46.794701986754966; Min: 23; Max: 500\n"
     ]
    },
    {
     "data": {
      "image/png": "[encoded data removed]",
      "text/plain": [
       "<Figure size 432x288 with 1 Axes>"
      ]
     },
     "metadata": {
      "needs_background": "light"
     },
     "output_type": "display_data"
    }
   ],
   "source": [
    "show_statistics(questions_count, 'Количество вопросов в турнире')"
   ]
  },
  {
   "cell_type": "code",
   "execution_count": 29,
   "metadata": {},
   "outputs": [
    {
     "name": "stdout",
     "output_type": "stream",
     "text": [
      "Самое распространенное количество вопросов в турнире - 36\n"
     ]
    }
   ],
   "source": [
    "print(f'Самое распространенное количество вопросов в турнире - {statistics.mode(questions_count)}')"
   ]
  },
  {
   "cell_type": "code",
   "execution_count": 30,
   "metadata": {},
   "outputs": [
    {
     "data": {
      "image/png": "[encoded data removed]",
      "text/plain": [
       "<Figure size 432x288 with 1 Axes>"
      ]
     },
     "metadata": {
      "needs_background": "light"
     },
     "output_type": "display_data"
    }
   ],
   "source": [
    "plt.hist(right_answers_rate)\n",
    "plt.title('Доля правильных ответов для каждого игрока')\n",
    "plt.show()"
   ]
  },
  {
   "cell_type": "markdown",
   "metadata": {},
   "source": [
    "#### 2. Baseline-модель "
   ]
  },
  {
   "cell_type": "markdown",
   "metadata": {},
   "source": [
    "В качестве base-line модели будем обучать логистическую регрессию, которая по one-hot вектору вопросов и one-hot вектору игрока бедут предсказывать - ответил игрок на вопрос или нет."
   ]
  },
  {
   "cell_type": "code",
   "execution_count": 12,
   "metadata": {},
   "outputs": [],
   "source": [
    "q_36_teams = 0\n",
    "q_36_players = []\n",
    "for t in tournaments_36_q:\n",
    "    for team in t['teams']:\n",
    "        q_36_teams += 1\n",
    "        for player in team['members']:\n",
    "            q_36_players.append(player)"
   ]
  },
  {
   "cell_type": "code",
   "execution_count": 13,
   "metadata": {},
   "outputs": [],
   "source": [
    "q_36_unique_players = set(q_36_players)\n",
    "q_36_all_players_num = len(q_36_players)\n",
    "q_36_unique_players_num = len(q_36_unique_players)"
   ]
  },
  {
   "cell_type": "code",
   "execution_count": 14,
   "metadata": {},
   "outputs": [],
   "source": [
    "player_to_id = {player: id_ for id_, player in enumerate(q_36_unique_players)}\n",
    "id_to_player = {id_: player for player, id_ in player_to_id.items()}"
   ]
  },
  {
   "cell_type": "code",
   "execution_count": 15,
   "metadata": {},
   "outputs": [],
   "source": [
    "X = sparse.lil_matrix((q_36_all_players_num * 36, q_36_unique_players_num + len(tournaments_36_q) * 36),  dtype = int)\n",
    "y = sparse.lil_matrix((q_36_all_players_num * 36, 1), dtype = float)"
   ]
  },
  {
   "cell_type": "code",
   "execution_count": 16,
   "metadata": {},
   "outputs": [
    {
     "name": "stderr",
     "output_type": "stream",
     "text": [
      "100%|██████████████████████████████████████████████████████████████████████████████| 352/352 [1:00:03<00:00, 10.24s/it]\n"
     ]
    }
   ],
   "source": [
    "ind = 0\n",
    "for tour_num, tournament in enumerate(tqdm(tournaments_36_q)):\n",
    "    id_ = tournament['id']\n",
    "    for team_num, team in enumerate(tournament['teams']):    \n",
    "        team_answers = list(map(int, list(filter(lambda x: x['team']['id'] == team['id'], results[id_]))[0]['mask']))        \n",
    "        for player_num, player in enumerate(team['members']):            \n",
    "            for ans_num, answer in enumerate(team_answers):              \n",
    "                X[ind, player_to_id[player]] = 1\n",
    "                X[ind, q_36_unique_players_num + (tour_num * 36) + ans_num] = 1\n",
    "                y[ind] = answer\n",
    "                ind += 1"
   ]
  },
  {
   "cell_type": "code",
   "execution_count": 17,
   "metadata": {},
   "outputs": [],
   "source": [
    "y = y.todense()"
   ]
  },
  {
   "cell_type": "code",
   "execution_count": 18,
   "metadata": {},
   "outputs": [],
   "source": [
    "model = LogisticRegression(max_iter=1000)"
   ]
  },
  {
   "cell_type": "code",
   "execution_count": 19,
   "metadata": {
    "scrolled": true
   },
   "outputs": [
    {
     "name": "stderr",
     "output_type": "stream",
     "text": [
      "C:\\Users\\asyas\\anaconda3\\lib\\site-packages\\sklearn\\utils\\validation.py:72: DataConversionWarning: A column-vector y was passed when a 1d array was expected. Please change the shape of y to (n_samples, ), for example using ravel().\n",
      "  return f(**kwargs)\n"
     ]
    },
    {
     "data": {
      "text/plain": [
       "LogisticRegression(max_iter=1000)"
      ]
     },
     "execution_count": 19,
     "metadata": {},
     "output_type": "execute_result"
    }
   ],
   "source": [
    "model.fit(X, y)"
   ]
  },
  {
   "cell_type": "markdown",
   "metadata": {},
   "source": [
    "Соотнесем каждого игрока с его коэффициентов в модели, это и будет оценкой его силы."
   ]
  },
  {
   "cell_type": "code",
   "execution_count": 214,
   "metadata": {},
   "outputs": [],
   "source": [
    "def get_players_dict(model):\n",
    "    players_coefs = model.coef_[0][:q_36_unique_players_num]\n",
    "    player_id_to_coef = dict()\n",
    "    for id_, player in id_to_player.items():\n",
    "        player_id_to_coef[player] = players_coefs[id_]\n",
    "    return player_id_to_coef"
   ]
  },
  {
   "cell_type": "code",
   "execution_count": 215,
   "metadata": {},
   "outputs": [],
   "source": [
    "player_id_to_coef = get_players_dict(model)\n",
    "sorted_coefs = dict(sorted(player_id_to_coef.items(), key = lambda item: item[1],  reverse=True))"
   ]
  },
  {
   "cell_type": "code",
   "execution_count": null,
   "metadata": {},
   "outputs": [],
   "source": [
    "def get_player_pos(id_):\n",
    "    url = f'https://rating.chgk.info/api/players/{id_}/rating/last'\n",
    "    position = 0\n",
    "    try:\n",
    "        position = int(requests.get(url).json()['rating_position'])\n",
    "    except Exception:\n",
    "        pass\n",
    "    return position"
   ]
  },
  {
   "cell_type": "code",
   "execution_count": 216,
   "metadata": {},
   "outputs": [],
   "source": [
    "df = pd.DataFrame.from_dict(dict(itertools.islice(sorted_coefs.items(), 50)), orient='index', columns=['score'])\n",
    "df['player_name'] = df.index.to_series().apply(lambda x: players[x]['name'] + ' ' + players[x]['surname'])\n",
    "df['position'] = range(1, len(df) + 1)\n",
    "df['real_position'] = df.index.to_series().apply(lambda x: get_player_pos(x))"
   ]
  },
  {
   "cell_type": "code",
   "execution_count": 217,
   "metadata": {},
   "outputs": [
    {
     "data": {
      "text/html": [
       "<div>\n",
       "<style scoped>\n",
       "    .dataframe tbody tr th:only-of-type {\n",
       "        vertical-align: middle;\n",
       "    }\n",
       "\n",
       "    .dataframe tbody tr th {\n",
       "        vertical-align: top;\n",
       "    }\n",
       "\n",
       "    .dataframe thead th {\n",
       "        text-align: right;\n",
       "    }\n",
       "</style>\n",
       "<table border=\"1\" class=\"dataframe\">\n",
       "  <thead>\n",
       "    <tr style=\"text-align: right;\">\n",
       "      <th></th>\n",
       "      <th>score</th>\n",
       "      <th>player_name</th>\n",
       "      <th>position</th>\n",
       "      <th>real_position</th>\n",
       "    </tr>\n",
       "  </thead>\n",
       "  <tbody>\n",
       "    <tr>\n",
       "      <th>27403</th>\n",
       "      <td>3.922781</td>\n",
       "      <td>Максим Руссо</td>\n",
       "      <td>1</td>\n",
       "      <td>5</td>\n",
       "    </tr>\n",
       "    <tr>\n",
       "      <th>27822</th>\n",
       "      <td>3.879852</td>\n",
       "      <td>Михаил Савченков</td>\n",
       "      <td>2</td>\n",
       "      <td>2</td>\n",
       "    </tr>\n",
       "    <tr>\n",
       "      <th>28751</th>\n",
       "      <td>3.768850</td>\n",
       "      <td>Иван Семушин</td>\n",
       "      <td>3</td>\n",
       "      <td>3</td>\n",
       "    </tr>\n",
       "    <tr>\n",
       "      <th>30270</th>\n",
       "      <td>3.751185</td>\n",
       "      <td>Сергей Спешков</td>\n",
       "      <td>4</td>\n",
       "      <td>4</td>\n",
       "    </tr>\n",
       "    <tr>\n",
       "      <th>4270</th>\n",
       "      <td>3.745626</td>\n",
       "      <td>Александра Брутер</td>\n",
       "      <td>5</td>\n",
       "      <td>6</td>\n",
       "    </tr>\n",
       "    <tr>\n",
       "      <th>30152</th>\n",
       "      <td>3.681323</td>\n",
       "      <td>Артём Сорожкин</td>\n",
       "      <td>6</td>\n",
       "      <td>1</td>\n",
       "    </tr>\n",
       "    <tr>\n",
       "      <th>24384</th>\n",
       "      <td>3.575672</td>\n",
       "      <td>Евгений Пашковский</td>\n",
       "      <td>7</td>\n",
       "      <td>115</td>\n",
       "    </tr>\n",
       "    <tr>\n",
       "      <th>26089</th>\n",
       "      <td>3.572892</td>\n",
       "      <td>Ирина Прокофьева</td>\n",
       "      <td>8</td>\n",
       "      <td>65</td>\n",
       "    </tr>\n",
       "    <tr>\n",
       "      <th>87637</th>\n",
       "      <td>3.540475</td>\n",
       "      <td>Антон Саксонов</td>\n",
       "      <td>9</td>\n",
       "      <td>158</td>\n",
       "    </tr>\n",
       "    <tr>\n",
       "      <th>34846</th>\n",
       "      <td>3.533395</td>\n",
       "      <td>Антон Чернин</td>\n",
       "      <td>10</td>\n",
       "      <td>13</td>\n",
       "    </tr>\n",
       "    <tr>\n",
       "      <th>14786</th>\n",
       "      <td>3.519196</td>\n",
       "      <td>Николай Коврижных</td>\n",
       "      <td>11</td>\n",
       "      <td>104</td>\n",
       "    </tr>\n",
       "    <tr>\n",
       "      <th>74001</th>\n",
       "      <td>3.476381</td>\n",
       "      <td>Игорь Мокин</td>\n",
       "      <td>12</td>\n",
       "      <td>74</td>\n",
       "    </tr>\n",
       "    <tr>\n",
       "      <th>18332</th>\n",
       "      <td>3.474858</td>\n",
       "      <td>Александр Либер</td>\n",
       "      <td>13</td>\n",
       "      <td>7</td>\n",
       "    </tr>\n",
       "    <tr>\n",
       "      <th>22799</th>\n",
       "      <td>3.463843</td>\n",
       "      <td>Сергей Николенко</td>\n",
       "      <td>14</td>\n",
       "      <td>10</td>\n",
       "    </tr>\n",
       "    <tr>\n",
       "      <th>18036</th>\n",
       "      <td>3.454402</td>\n",
       "      <td>Михаил Левандовский</td>\n",
       "      <td>15</td>\n",
       "      <td>8</td>\n",
       "    </tr>\n",
       "    <tr>\n",
       "      <th>20691</th>\n",
       "      <td>3.447760</td>\n",
       "      <td>Станислав Мереминский</td>\n",
       "      <td>16</td>\n",
       "      <td>38</td>\n",
       "    </tr>\n",
       "    <tr>\n",
       "      <th>26798</th>\n",
       "      <td>3.445171</td>\n",
       "      <td>Анна Резникова</td>\n",
       "      <td>17</td>\n",
       "      <td>5813</td>\n",
       "    </tr>\n",
       "    <tr>\n",
       "      <th>34328</th>\n",
       "      <td>3.410798</td>\n",
       "      <td>Михаил Царёв</td>\n",
       "      <td>18</td>\n",
       "      <td>311</td>\n",
       "    </tr>\n",
       "    <tr>\n",
       "      <th>20001</th>\n",
       "      <td>3.401969</td>\n",
       "      <td>Александр Мартынов</td>\n",
       "      <td>19</td>\n",
       "      <td>49</td>\n",
       "    </tr>\n",
       "    <tr>\n",
       "      <th>56647</th>\n",
       "      <td>3.395914</td>\n",
       "      <td>Наталья Горелова</td>\n",
       "      <td>20</td>\n",
       "      <td>349</td>\n",
       "    </tr>\n",
       "    <tr>\n",
       "      <th>19060</th>\n",
       "      <td>3.394758</td>\n",
       "      <td>Александр Людикайнен</td>\n",
       "      <td>21</td>\n",
       "      <td>3435</td>\n",
       "    </tr>\n",
       "    <tr>\n",
       "      <th>16837</th>\n",
       "      <td>3.391238</td>\n",
       "      <td>Наталья Кудряшова</td>\n",
       "      <td>22</td>\n",
       "      <td>23</td>\n",
       "    </tr>\n",
       "    <tr>\n",
       "      <th>6212</th>\n",
       "      <td>3.384799</td>\n",
       "      <td>Юрий Выменец</td>\n",
       "      <td>23</td>\n",
       "      <td>12</td>\n",
       "    </tr>\n",
       "    <tr>\n",
       "      <th>25882</th>\n",
       "      <td>3.383001</td>\n",
       "      <td>Максим Поташев</td>\n",
       "      <td>24</td>\n",
       "      <td>31</td>\n",
       "    </tr>\n",
       "    <tr>\n",
       "      <th>23737</th>\n",
       "      <td>3.375640</td>\n",
       "      <td>Андрей Островский</td>\n",
       "      <td>25</td>\n",
       "      <td>16</td>\n",
       "    </tr>\n",
       "    <tr>\n",
       "      <th>15456</th>\n",
       "      <td>3.374986</td>\n",
       "      <td>Сергей Коновалов</td>\n",
       "      <td>26</td>\n",
       "      <td>15</td>\n",
       "    </tr>\n",
       "    <tr>\n",
       "      <th>19915</th>\n",
       "      <td>3.360907</td>\n",
       "      <td>Александр Марков</td>\n",
       "      <td>27</td>\n",
       "      <td>51</td>\n",
       "    </tr>\n",
       "    <tr>\n",
       "      <th>74382</th>\n",
       "      <td>3.356633</td>\n",
       "      <td>Михаил Новосёлов</td>\n",
       "      <td>28</td>\n",
       "      <td>50</td>\n",
       "    </tr>\n",
       "    <tr>\n",
       "      <th>10586</th>\n",
       "      <td>3.336147</td>\n",
       "      <td>Павел Ершов</td>\n",
       "      <td>29</td>\n",
       "      <td>63</td>\n",
       "    </tr>\n",
       "    <tr>\n",
       "      <th>30475</th>\n",
       "      <td>3.319829</td>\n",
       "      <td>Владимир Степанов</td>\n",
       "      <td>30</td>\n",
       "      <td>43</td>\n",
       "    </tr>\n",
       "  </tbody>\n",
       "</table>\n",
       "</div>"
      ],
      "text/plain": [
       "          score            player_name  position  real_position\n",
       "27403  3.922781           Максим Руссо         1              5\n",
       "27822  3.879852       Михаил Савченков         2              2\n",
       "28751  3.768850           Иван Семушин         3              3\n",
       "30270  3.751185         Сергей Спешков         4              4\n",
       "4270   3.745626      Александра Брутер         5              6\n",
       "30152  3.681323         Артём Сорожкин         6              1\n",
       "24384  3.575672     Евгений Пашковский         7            115\n",
       "26089  3.572892       Ирина Прокофьева         8             65\n",
       "87637  3.540475         Антон Саксонов         9            158\n",
       "34846  3.533395           Антон Чернин        10             13\n",
       "14786  3.519196      Николай Коврижных        11            104\n",
       "74001  3.476381            Игорь Мокин        12             74\n",
       "18332  3.474858        Александр Либер        13              7\n",
       "22799  3.463843       Сергей Николенко        14             10\n",
       "18036  3.454402    Михаил Левандовский        15              8\n",
       "20691  3.447760  Станислав Мереминский        16             38\n",
       "26798  3.445171         Анна Резникова        17           5813\n",
       "34328  3.410798           Михаил Царёв        18            311\n",
       "20001  3.401969     Александр Мартынов        19             49\n",
       "56647  3.395914       Наталья Горелова        20            349\n",
       "19060  3.394758   Александр Людикайнен        21           3435\n",
       "16837  3.391238      Наталья Кудряшова        22             23\n",
       "6212   3.384799           Юрий Выменец        23             12\n",
       "25882  3.383001         Максим Поташев        24             31\n",
       "23737  3.375640      Андрей Островский        25             16\n",
       "15456  3.374986       Сергей Коновалов        26             15\n",
       "19915  3.360907       Александр Марков        27             51\n",
       "74382  3.356633       Михаил Новосёлов        28             50\n",
       "10586  3.336147            Павел Ершов        29             63\n",
       "30475  3.319829      Владимир Степанов        30             43"
      ]
     },
     "execution_count": 217,
     "metadata": {},
     "output_type": "execute_result"
    }
   ],
   "source": [
    "df.head(30)"
   ]
  },
  {
   "cell_type": "markdown",
   "metadata": {},
   "source": [
    "Визуально кажется, что получился неплохой результат. Перейдем к оценке корреляций."
   ]
  },
  {
   "cell_type": "markdown",
   "metadata": {},
   "source": [
    "#### 3. Оценка качества"
   ]
  },
  {
   "cell_type": "markdown",
   "metadata": {},
   "source": [
    "Для того, чтобы оценить силу команды будем считать сумму коэффициентов входящих в нее игроков и накидываться сверху сигмоиду - имитируя таким образом поведение модели. "
   ]
  },
  {
   "cell_type": "code",
   "execution_count": 194,
   "metadata": {},
   "outputs": [],
   "source": [
    "teams_true_ratings = []\n",
    "teams_pred_ratings = []\n",
    "\n",
    "for tournament in test:   \n",
    "    tour_id = tournament['id']\n",
    "    filtered_teams = list(filter(lambda x: x['team']['id'] in list(map(lambda x: x['id'], tournament['teams'])), results[tour_id]))\n",
    "    teams_sorted_by_position = list(map(lambda x: x['team']['id'], filtered_teams))\n",
    "    teams_true_ratings.append(list(range(1, len(teams_sorted_by_position) + 1)))\n",
    "\n",
    "    teams_rating = dict()\n",
    "    for team in tournament['teams']:\n",
    "        team_scores = []\n",
    "        for player in team['members']:\n",
    "            if player in player_id_to_coef.keys():\n",
    "\n",
    "                team_scores.append(player_id_to_coef[player])\n",
    "\n",
    "        if (len(team_scores) == 0):\n",
    "            teams_rating[team['id']] = 0\n",
    "        else:\n",
    "            teams_rating[team['id']] = sigmoid(np.sum(team_scores))\n",
    "\n",
    "    my_ranged_teams = list(dict(sorted(teams_rating.items(), key = lambda item: item[1],  reverse=True)).keys())    \n",
    "    rating = []\n",
    "    for team_id in teams_sorted_by_position:\n",
    "        rating.append(my_ranged_teams.index(team_id) + 1)\n",
    "\n",
    "    teams_pred_ratings.append(rating)"
   ]
  },
  {
   "cell_type": "code",
   "execution_count": 195,
   "metadata": {
    "scrolled": true
   },
   "outputs": [],
   "source": [
    "def print_correlations(teams_true_ratings, teams_pred_ratings):\n",
    "    spearmanr_corr = []\n",
    "    kendalltau_corr = []\n",
    "    for i in range(len(teams_true_ratings)):\n",
    "        spearmanr_corr.append(np.abs(sts.spearmanr(teams_true_ratings[i], teams_pred_ratings[i]).correlation))\n",
    "        kendalltau_corr.append(np.abs(sts.kendalltau(teams_true_ratings[i], teams_pred_ratings[i]).correlation))\n",
    "        \n",
    "    print(f'Корреляция Спирмена: {np.mean(spearmanr_corr)}')\n",
    "    print(f'Корреляция Кендалла: {np.mean(kendalltau_corr)}')\n",
    "    print('~~~~~~~~~~~~~~~~~~~~~~~~~~~~~~~~~~~~~~~~')"
   ]
  },
  {
   "cell_type": "code",
   "execution_count": 196,
   "metadata": {},
   "outputs": [
    {
     "name": "stdout",
     "output_type": "stream",
     "text": [
      "Корреляция Спирмена: 0.7931348034683724\n",
      "Корреляция Кендалла: 0.6241895015286917\n",
      "~~~~~~~~~~~~~~~~~~~~~~~~~~~~~~~~~~~~~~~~\n"
     ]
    }
   ],
   "source": [
    "print_correlations(teams_true_ratings, teams_pred_ratings)"
   ]
  },
  {
   "cell_type": "markdown",
   "metadata": {},
   "source": [
    "#### 4. EM-схема"
   ]
  },
  {
   "cell_type": "markdown",
   "metadata": {},
   "source": [
    "Идея: будем считать вероятность правильного ответа игрока при условии правильного ответа команды.  \n",
    "p(player = 1 | team = 1) = p(player = 1) * p(team = 1 | player=1) / p(team)  \n",
    "Сделаем сильное предположение о том, что если игрок отвечает правильно, то вся команда отвечает правильно, потому что команде удается выбрать его версию.  \n",
    "Тогда p(player = 1 | team = 1) = p(player = 1) * 1 / p(team)  "
   ]
  },
  {
   "cell_type": "markdown",
   "metadata": {},
   "source": [
    "ЕМ-схема:  \n",
    "   -  Е-шаг - вычисление веротяностей p(player = 1 | team = 1)   \n",
    "   -  M-шаг - максимизируем правдоподобие (обучаем модель на новых вероятностях)  "
   ]
  },
  {
   "cell_type": "markdown",
   "metadata": {},
   "source": [
    "Реализация: к сожалению довести до ума реализацию у меня не получилось("
   ]
  },
  {
   "cell_type": "markdown",
   "metadata": {},
   "source": [
    "#### 5. “Pейтинг-лист” турниров по сложности вопросов"
   ]
  },
  {
   "cell_type": "markdown",
   "metadata": {},
   "source": [
    "Достанем оставшиейся коэффициенты модели, которые отвечают за сложность вопросов."
   ]
  },
  {
   "cell_type": "code",
   "execution_count": 220,
   "metadata": {},
   "outputs": [],
   "source": [
    "questions_coefs = model.coef_[0][q_36_unique_players_num:]"
   ]
  },
  {
   "cell_type": "markdown",
   "metadata": {},
   "source": [
    "В качестве оценки сложности турнира будем использовать усредненную сложность его вопросов."
   ]
  },
  {
   "cell_type": "code",
   "execution_count": 291,
   "metadata": {},
   "outputs": [],
   "source": [
    "tournament_to_score = dict()\n",
    "for ind, tournament in enumerate(tournaments_36_q):\n",
    "    id_ = tournament['id']\n",
    "    tournament_to_score[id_] = np.mean(questions_coefs[ind * 36 : (ind + 1) * 36])"
   ]
  },
  {
   "cell_type": "code",
   "execution_count": 292,
   "metadata": {},
   "outputs": [],
   "source": [
    "df = pd.DataFrame.from_dict(tournament_to_score, orient='index', columns=['score'])\n",
    "df['tournamnent_name'] =  df.index.to_series().apply(lambda x: tournaments[x]['name'])\n",
    "df = df.sort_values('score')"
   ]
  },
  {
   "cell_type": "code",
   "execution_count": 293,
   "metadata": {},
   "outputs": [
    {
     "data": {
      "text/html": [
       "<div>\n",
       "<style scoped>\n",
       "    .dataframe tbody tr th:only-of-type {\n",
       "        vertical-align: middle;\n",
       "    }\n",
       "\n",
       "    .dataframe tbody tr th {\n",
       "        vertical-align: top;\n",
       "    }\n",
       "\n",
       "    .dataframe thead th {\n",
       "        text-align: right;\n",
       "    }\n",
       "</style>\n",
       "<table border=\"1\" class=\"dataframe\">\n",
       "  <thead>\n",
       "    <tr style=\"text-align: right;\">\n",
       "      <th></th>\n",
       "      <th>score</th>\n",
       "      <th>tournamnent_name</th>\n",
       "    </tr>\n",
       "  </thead>\n",
       "  <tbody>\n",
       "    <tr>\n",
       "      <th>5159</th>\n",
       "      <td>-2.168828</td>\n",
       "      <td>Первенство правого полушария</td>\n",
       "    </tr>\n",
       "    <tr>\n",
       "      <th>6101</th>\n",
       "      <td>-2.077255</td>\n",
       "      <td>Воображаемый музей</td>\n",
       "    </tr>\n",
       "    <tr>\n",
       "      <th>5587</th>\n",
       "      <td>-1.895490</td>\n",
       "      <td>Записки охотника</td>\n",
       "    </tr>\n",
       "    <tr>\n",
       "      <th>5083</th>\n",
       "      <td>-1.791390</td>\n",
       "      <td>Ускользающая сова</td>\n",
       "    </tr>\n",
       "    <tr>\n",
       "      <th>5693</th>\n",
       "      <td>-1.765209</td>\n",
       "      <td>Знание – Сила VI</td>\n",
       "    </tr>\n",
       "    <tr>\n",
       "      <th>5515</th>\n",
       "      <td>-1.664156</td>\n",
       "      <td>Чемпионат Минска. Лига А. Тур четвёртый</td>\n",
       "    </tr>\n",
       "    <tr>\n",
       "      <th>5741</th>\n",
       "      <td>-1.638065</td>\n",
       "      <td>All Cats Are Beautiful</td>\n",
       "    </tr>\n",
       "    <tr>\n",
       "      <th>5186</th>\n",
       "      <td>-1.626576</td>\n",
       "      <td>VERSUS: Коробейников vs. Матвеев</td>\n",
       "    </tr>\n",
       "    <tr>\n",
       "      <th>5161</th>\n",
       "      <td>-1.578712</td>\n",
       "      <td>Антибинго</td>\n",
       "    </tr>\n",
       "    <tr>\n",
       "      <th>5421</th>\n",
       "      <td>-1.540880</td>\n",
       "      <td>Львов зимой. Адвокат</td>\n",
       "    </tr>\n",
       "  </tbody>\n",
       "</table>\n",
       "</div>"
      ],
      "text/plain": [
       "         score                         tournamnent_name\n",
       "5159 -2.168828             Первенство правого полушария\n",
       "6101 -2.077255                       Воображаемый музей\n",
       "5587 -1.895490                         Записки охотника\n",
       "5083 -1.791390                        Ускользающая сова\n",
       "5693 -1.765209                         Знание – Сила VI\n",
       "5515 -1.664156  Чемпионат Минска. Лига А. Тур четвёртый\n",
       "5741 -1.638065                   All Cats Are Beautiful\n",
       "5186 -1.626576         VERSUS: Коробейников vs. Матвеев\n",
       "5161 -1.578712                                Антибинго\n",
       "5421 -1.540880                     Львов зимой. Адвокат"
      ]
     },
     "execution_count": 293,
     "metadata": {},
     "output_type": "execute_result"
    }
   ],
   "source": [
    "df.head(10)"
   ]
  },
  {
   "cell_type": "code",
   "execution_count": 294,
   "metadata": {},
   "outputs": [
    {
     "data": {
      "text/html": [
       "<div>\n",
       "<style scoped>\n",
       "    .dataframe tbody tr th:only-of-type {\n",
       "        vertical-align: middle;\n",
       "    }\n",
       "\n",
       "    .dataframe tbody tr th {\n",
       "        vertical-align: top;\n",
       "    }\n",
       "\n",
       "    .dataframe thead th {\n",
       "        text-align: right;\n",
       "    }\n",
       "</style>\n",
       "<table border=\"1\" class=\"dataframe\">\n",
       "  <thead>\n",
       "    <tr style=\"text-align: right;\">\n",
       "      <th></th>\n",
       "      <th>score</th>\n",
       "      <th>tournamnent_name</th>\n",
       "    </tr>\n",
       "  </thead>\n",
       "  <tbody>\n",
       "    <tr>\n",
       "      <th>5601</th>\n",
       "      <td>1.624514</td>\n",
       "      <td>Межфакультетский кубок МГУ. Отбор №4</td>\n",
       "    </tr>\n",
       "    <tr>\n",
       "      <th>6003</th>\n",
       "      <td>1.644181</td>\n",
       "      <td>Второй тематический турнир имени Джоуи Триббиани</td>\n",
       "    </tr>\n",
       "    <tr>\n",
       "      <th>5704</th>\n",
       "      <td>1.739195</td>\n",
       "      <td>(а)Синхрон-lite. Лига старта. Эпизод X</td>\n",
       "    </tr>\n",
       "    <tr>\n",
       "      <th>5313</th>\n",
       "      <td>1.764907</td>\n",
       "      <td>(а)Синхрон-lite. Лига старта. Эпизод VI</td>\n",
       "    </tr>\n",
       "    <tr>\n",
       "      <th>5011</th>\n",
       "      <td>1.798313</td>\n",
       "      <td>(а)Синхрон-lite. Лига старта. Эпизод IV</td>\n",
       "    </tr>\n",
       "    <tr>\n",
       "      <th>5012</th>\n",
       "      <td>1.803123</td>\n",
       "      <td>Школьный Синхрон-lite. Выпуск 2.5</td>\n",
       "    </tr>\n",
       "    <tr>\n",
       "      <th>5698</th>\n",
       "      <td>2.013616</td>\n",
       "      <td>(а)Синхрон-lite. Лига старта. Эпизод VII</td>\n",
       "    </tr>\n",
       "    <tr>\n",
       "      <th>5702</th>\n",
       "      <td>2.036808</td>\n",
       "      <td>(а)Синхрон-lite. Лига старта. Эпизод IX</td>\n",
       "    </tr>\n",
       "    <tr>\n",
       "      <th>5009</th>\n",
       "      <td>2.050090</td>\n",
       "      <td>(а)Синхрон-lite. Лига старта. Эпизод III</td>\n",
       "    </tr>\n",
       "    <tr>\n",
       "      <th>5013</th>\n",
       "      <td>2.239219</td>\n",
       "      <td>(а)Синхрон-lite. Лига старта. Эпизод V</td>\n",
       "    </tr>\n",
       "  </tbody>\n",
       "</table>\n",
       "</div>"
      ],
      "text/plain": [
       "         score                                  tournamnent_name\n",
       "5601  1.624514              Межфакультетский кубок МГУ. Отбор №4\n",
       "6003  1.644181  Второй тематический турнир имени Джоуи Триббиани\n",
       "5704  1.739195            (а)Синхрон-lite. Лига старта. Эпизод X\n",
       "5313  1.764907           (а)Синхрон-lite. Лига старта. Эпизод VI\n",
       "5011  1.798313           (а)Синхрон-lite. Лига старта. Эпизод IV\n",
       "5012  1.803123                 Школьный Синхрон-lite. Выпуск 2.5\n",
       "5698  2.013616          (а)Синхрон-lite. Лига старта. Эпизод VII\n",
       "5702  2.036808           (а)Синхрон-lite. Лига старта. Эпизод IX\n",
       "5009  2.050090          (а)Синхрон-lite. Лига старта. Эпизод III\n",
       "5013  2.239219            (а)Синхрон-lite. Лига старта. Эпизод V"
      ]
     },
     "execution_count": 294,
     "metadata": {},
     "output_type": "execute_result"
    }
   ],
   "source": [
    "df.tail(10)"
   ]
  },
  {
   "cell_type": "markdown",
   "metadata": {},
   "source": [
    "Кажется, что самые простые турниры выделилиись довольно удачно. Что касается самых сложных турниров, то оценить ранжирование довольно трудно."
   ]
  }
 ],
 "metadata": {
  "kernelspec": {
   "display_name": "Python 3",
   "language": "python",
   "name": "python3"
  },
  "language_info": {
   "codemirror_mode": {
    "name": "ipython",
    "version": 3
   },
   "file_extension": ".py",
   "mimetype": "text/x-python",
   "name": "python",
   "nbconvert_exporter": "python",
   "pygments_lexer": "ipython3",
   "version": "3.8.3"
  }
 },
 "nbformat": 4,
 "nbformat_minor": 4
}
